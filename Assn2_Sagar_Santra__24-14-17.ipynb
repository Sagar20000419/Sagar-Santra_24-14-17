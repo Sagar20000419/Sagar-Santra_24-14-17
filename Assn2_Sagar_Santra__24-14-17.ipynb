{
 "cells": [
  {
   "cell_type": "markdown",
   "id": "b4d48ee8-4e02-4db5-9548-73401446fe6f",
   "metadata": {},
   "source": [
    "## Assignment 2\n",
    "## Sagar Santra\n",
    "## Reg. no. 24-14-17\n",
    "## Modelling And Simulation"
   ]
  },
  {
   "cell_type": "markdown",
   "id": "2895150a-f2fd-4059-b362-8464be5213f6",
   "metadata": {},
   "source": [
    "### Q1"
   ]
  },
  {
   "cell_type": "markdown",
   "id": "751959fc-1824-4a69-a19b-fb5b866605d5",
   "metadata": {},
   "source": [
    "### a) Create a variable named var1 that stores an array of numbers from 0 to 30,inclusive. Print var1 and its shape. Hint : arange\n",
    "### b) Change var2 to a validly-shaped two-dimensional matrix and store it in a new variable called var2. Print var2 and its shape. Hint: Use the reshape function\n",
    "### c) Create a third variable, var3 that reshapes it into a valid three-dimensional shape.Print var3 and its shape.\n",
    "### d) Use two-dimensional array indexing to set the first value in the second row of var2 to -1. Now look at var1 and var3. Did they change? Explain what’s going on. (Hint: does reshape return a view or a copy?)\n",
    "### e) Another thing that comes up a lot with array shapes is thinking about how to aggregate over specific dimensions. Figure out how the NumPy sum function works (and the axis argument in particular) and do the following:\n",
    "(i) Sum var3 over its second dimension and print the result.\n",
    "(ii) Sum var3 over its third dimension and print the result.\n",
    "(iii) Sum var3 over both its first and third dimensions and print the result.\n",
    "### f) Write code to do the following:\n",
    "(i) Slice out the second row of var2 and print it.\n",
    "(ii) Slice out the last column of var2 using the -1 notation and print it.\n",
    "(iii) Slice out the top right 2 × 2 submatrix of var2 and print it."
   ]
  },
  {
   "cell_type": "code",
   "execution_count": 51,
   "id": "0273e2b6-1c3b-492a-ae79-deb69022adc6",
   "metadata": {},
   "outputs": [
    {
     "name": "stdout",
     "output_type": "stream",
     "text": [
      "[ 0  1  2  3  4  5  6  7  8  9 10 11 12 13 14 15 16 17 18 19 20 21 22 23\n",
      " 24 25 26 27 28 29 30]\n",
      "Shape of Var1: (31,)\n",
      "Dimension of Var1: 1\n"
     ]
    }
   ],
   "source": [
    "import numpy as np\n",
    "var1=np.arange(31)\n",
    "print(var1)\n",
    "print(\"Shape of Var1:\",var1.shape)\n",
    "print(\"Dimension of Var1:\",var1.ndim)\n"
   ]
  },
  {
   "cell_type": "code",
   "execution_count": 47,
   "id": "47a00ce0-00bd-4f6a-ac60-01ab7e7724b2",
   "metadata": {},
   "outputs": [
    {
     "name": "stdout",
     "output_type": "stream",
     "text": [
      "var2\n",
      "[[ 1  2  3  4  5  6  7  8  9 10 11 12 13 14 15]\n",
      " [16 17 18 19 20 21 22 23 24 25 26 27 28 29 30]]\n",
      "Shape of Var2: (2, 15)\n",
      "Dimension of Var2: 2\n"
     ]
    }
   ],
   "source": [
    "new_array=np.delete(var1,0)\n",
    "var2=new_array.reshape(2,-1)\n",
    "print(\"var2\")\n",
    "print(var2)\n",
    "print(\"Shape of Var2:\",var2.shape)\n",
    "print(\"Dimension of Var2:\",var2.ndim)"
   ]
  },
  {
   "cell_type": "code",
   "execution_count": 21,
   "id": "a7e73429-781f-42c7-8d48-403aa07c1102",
   "metadata": {},
   "outputs": [
    {
     "name": "stdout",
     "output_type": "stream",
     "text": [
      "var3\n",
      "[[[ 1  2  3  4  5  6  7  8  9 10 11 12 13 14 15]]\n",
      "\n",
      " [[16 17 18 19 20 21 22 23 24 25 26 27 28 29 30]]]\n",
      "Shape of Var3: (2, 1, 15)\n",
      "Dimension of Var3: 3\n"
     ]
    }
   ],
   "source": [
    "var3=var2.reshape(var2.shape[0],-1,var2.shape[1])\n",
    "print(\"var3\")\n",
    "print(var3)\n",
    "print(\"Shape of Var3:\",var3.shape)\n",
    "print(\"Dimension of Var3:\",var3.ndim)"
   ]
  },
  {
   "cell_type": "code",
   "execution_count": 46,
   "id": "84631069-efab-4ee9-921f-c5feecd1f63b",
   "metadata": {},
   "outputs": [
    {
     "name": "stdout",
     "output_type": "stream",
     "text": [
      "\n",
      "Modified var2 after setting the first value in the second row to -1:\n",
      "[[ 1  2  3  4  5  6  7  8  9 10 11 12 13 14 15]\n",
      " [-1 17 18 19 20 21 22 23 24 25 26 27 28 29 30]]\n",
      "var1 [ 0  1  2  3  4  5  6  7  8  9 10 11 12 13 14 15 16 17 18 19 20 21 22 23\n",
      " 24 25 26 27 28 29 30]\n",
      "var3 [[[ 1  2  3  4  5  6  7  8  9 10 11 12 13 14 15]]\n",
      "\n",
      " [[-1 17 18 19 20 21 22 23 24 25 26 27 28 29 30]]]\n"
     ]
    }
   ],
   "source": [
    "var2[1,0]=-1\n",
    "print(\"\\nModified var2 after setting the first value in the second row to -1:\")\n",
    "print(var2)\n",
    "print(\"var1\",var1)\n",
    "print(\"var3\",var3)"
   ]
  },
  {
   "cell_type": "code",
   "execution_count": 45,
   "id": "72f1db18-12a0-4d11-a7f8-ca0e96b64e70",
   "metadata": {},
   "outputs": [
    {
     "name": "stdout",
     "output_type": "stream",
     "text": [
      "Sum over the second dimension:\n",
      " [[ 1  2  3  4  5  6  7  8  9 10 11 12 13 14 15]\n",
      " [-1 17 18 19 20 21 22 23 24 25 26 27 28 29 30]]\n"
     ]
    }
   ],
   "source": [
    "sum_second = np.sum(var3, axis=1)\n",
    "print(\"Sum over the second dimension:\\n\", sum_second)\n"
   ]
  },
  {
   "cell_type": "code",
   "execution_count": 25,
   "id": "f40f9338-978b-4faf-8480-e0d68f9dc04e",
   "metadata": {},
   "outputs": [
    {
     "name": "stdout",
     "output_type": "stream",
     "text": [
      "Sum over the second dimension:\n",
      " [[120]\n",
      " [328]]\n"
     ]
    }
   ],
   "source": [
    "sum_third= np.sum(var3, axis=2)\n",
    "print(\"Sum over the second dimension:\\n\", sum_third)\n"
   ]
  },
  {
   "cell_type": "code",
   "execution_count": 27,
   "id": "c1137eb0-2b95-4221-84a6-f66ee3555604",
   "metadata": {},
   "outputs": [
    {
     "name": "stdout",
     "output_type": "stream",
     "text": [
      "Sum over the second dimension:\n",
      " [448]\n"
     ]
    }
   ],
   "source": [
    "sum_fist_third= np.sum(var3, axis=(0,2))\n",
    "print(\"Sum over the second dimension:\\n\", sum_fist_third)"
   ]
  },
  {
   "cell_type": "code",
   "execution_count": 48,
   "id": "a01cc2c9-ae92-420c-b2be-d152bdfa306e",
   "metadata": {},
   "outputs": [
    {
     "name": "stdout",
     "output_type": "stream",
     "text": [
      "var2\n",
      "[[ 1  2  3  4  5  6  7  8  9 10 11 12 13 14 15]\n",
      " [16 17 18 19 20 21 22 23 24 25 26 27 28 29 30]]\n",
      "Second Row is : [[16 17 18 19 20 21 22 23 24 25 26 27 28 29 30]]\n"
     ]
    }
   ],
   "source": [
    "print(\"var2\")\n",
    "print(var2)\n",
    "print(\"Second Row is :\",var2[1:2])"
   ]
  },
  {
   "cell_type": "code",
   "execution_count": 44,
   "id": "48bc4b68-8b22-481f-8fca-d4f945ff098d",
   "metadata": {},
   "outputs": [
    {
     "name": "stdout",
     "output_type": "stream",
     "text": [
      "Last Column of var2 is:\n",
      "[[15]\n",
      " [30]]\n"
     ]
    }
   ],
   "source": [
    "print(\"Last Column of var2 is:\")\n",
    "print(var2[ :,-1:])"
   ]
  },
  {
   "cell_type": "code",
   "execution_count": 54,
   "id": "c9728219-87b8-4613-9ba2-f4db6ba310a6",
   "metadata": {},
   "outputs": [
    {
     "name": "stdout",
     "output_type": "stream",
     "text": [
      "The top right 2x2 matrix is :\n",
      "[[14 15]\n",
      " [29 30]]\n"
     ]
    }
   ],
   "source": [
    "print(\"The top right 2x2 matrix is :\")\n",
    "print(var2[0:2,13:])"
   ]
  },
  {
   "cell_type": "markdown",
   "id": "86a8d1aa-fe8f-444e-9616-faa6cd28a11d",
   "metadata": {},
   "source": [
    "### Q2"
   ]
  },
  {
   "cell_type": "markdown",
   "id": "1683bf76-d832-4a0c-9776-283e819cd7b9",
   "metadata": {},
   "source": [
    "## a) The most basic kind of broadcast is with a scalar, in which you can perform a binary operation (e.g., add, multiply, ...) on an array and a scalar, the effect is to perform that operation with the scalar for every element of the array. To try this out, create a vector 1, 2, . . . , 10 by adding 1 to the result of the arange function.\n",
    "## b) Now, create a 10 × 10 matrix A in which Ai j = i + j. You’ll be able to do this using the vector you just created, and adding it to a reshaped version of itself.\n",
    "## c) A very common use of broadcasting is to standardize data, i.e., to make it have zero mean and unit variance. First, create a fake “data set” with 50 examples,each with five dimensions.\n",
    "## import numpy.random as npr\n",
    "## data = np.exp(npr.randn ( 50 , 5 ) )\n",
    "## d) You don’t worry too much about what this code is doing at this stage of the course, but for completeness: it imports the NumPy random number generation library, then generates a 50 × 5 matrix of standard normal\n",
    "## e) Now, compute the mean and standard deviation of each column. This should result in two vectors of length 5. You’ll need to think a little bit about how to use the axis argument to mean and std. Store these vectors into variables and print both of them.\n",
    "## f) Now standardize the data matrix by 1) subtracting the mean off of each column,and 2) dividing each column by its standard deviation. Do this via broadcasting,and store the result in a matrix called normalized. To verify that you successfullydid it, compute the mean and standard deviation ofthe columns of normalized and print them out.\n"
   ]
  },
  {
   "cell_type": "code",
   "execution_count": 4,
   "id": "a463993e-91a5-4fdf-b990-19fead1f3069",
   "metadata": {},
   "outputs": [
    {
     "name": "stdout",
     "output_type": "stream",
     "text": [
      "[ 1  2  3  4  5  6  7  8  9 10]\n"
     ]
    }
   ],
   "source": [
    "import numpy as np\n",
    "vector=np.arange(0,10)\n",
    "vector+=1\n",
    "print(vector)"
   ]
  },
  {
   "cell_type": "code",
   "execution_count": 5,
   "id": "d54b0db7-57c4-459f-b6f2-58e12898c8e5",
   "metadata": {},
   "outputs": [
    {
     "name": "stdout",
     "output_type": "stream",
     "text": [
      "The required 10x10 matrix is\n",
      "A=\n",
      "[[ 2  3  4  5  6  7  8  9 10 11]\n",
      " [ 3  4  5  6  7  8  9 10 11 12]\n",
      " [ 4  5  6  7  8  9 10 11 12 13]\n",
      " [ 5  6  7  8  9 10 11 12 13 14]\n",
      " [ 6  7  8  9 10 11 12 13 14 15]\n",
      " [ 7  8  9 10 11 12 13 14 15 16]\n",
      " [ 8  9 10 11 12 13 14 15 16 17]\n",
      " [ 9 10 11 12 13 14 15 16 17 18]\n",
      " [10 11 12 13 14 15 16 17 18 19]\n",
      " [11 12 13 14 15 16 17 18 19 20]]\n"
     ]
    }
   ],
   "source": [
    "A=vector[:,np.newaxis]+vector\n",
    "print(\"The required 10x10 matrix is\")\n",
    "print(\"A=\")\n",
    "print(A)"
   ]
  },
  {
   "cell_type": "code",
   "execution_count": 6,
   "id": "50893547-110d-47ef-b6da-6838474503e6",
   "metadata": {},
   "outputs": [
    {
     "name": "stdout",
     "output_type": "stream",
     "text": [
      "[[ 1.17309461  2.52641443  2.72986536  0.37771243  0.39763226]\n",
      " [ 2.11764475  1.59236127  0.57936566  4.54751938  0.45919759]\n",
      " [ 4.99356531  1.20511655  0.94404826  1.54880685  0.63947742]\n",
      " [ 0.83671454  0.62578701  0.94445811  1.58335066  0.57741235]\n",
      " [ 3.57145189  0.43519634  0.68357562  5.39149161  0.81728184]\n",
      " [ 0.63250073  2.70355789  0.50870903  0.4328719   1.38907998]\n",
      " [ 0.38061106  1.44363224  1.18513174  0.88230093  6.65847007]\n",
      " [ 0.33116237  0.68446819  1.17311413  2.3387527   0.49407488]\n",
      " [ 0.50607355  1.69441682  1.94049231  0.22317205  6.54114964]\n",
      " [ 0.3395375   2.7284067   3.78053366  0.43851428  1.3030675 ]\n",
      " [ 0.39900492  0.41529606  0.61324512  4.40479473  0.56198449]\n",
      " [ 0.21722025  0.70612148  1.5807215   0.60106804  5.47053524]\n",
      " [ 0.47716498  3.9941621   1.64531241  0.53975177  0.89351866]\n",
      " [ 0.46221742  0.84062018  1.47140524  2.55472348  0.65946384]\n",
      " [ 0.20210612  0.51880206  0.94769501  0.54654114  2.47310155]\n",
      " [ 1.10879861  3.90364653  0.84289841  0.51046613  3.21476146]\n",
      " [ 0.3143428   1.01641174  0.72184678  1.17060742  4.18989087]\n",
      " [ 0.15726855  0.99551106  0.84875523  0.28894524  0.81005531]\n",
      " [ 1.27624283  6.0065537   1.03732929  0.11717032  3.14564348]\n",
      " [ 0.77457821  1.26542687  1.83758083  2.18828262  0.37940745]\n",
      " [ 0.47713773  1.51259943  1.18937953  2.3138209   0.92381784]\n",
      " [ 0.60965733  1.38786881  2.30520225  0.19822873  0.75281516]\n",
      " [ 0.93962132 21.46690772  4.0910276   2.07461169  0.26309632]\n",
      " [ 0.40239527  0.16133689  3.67675388  0.56351424  4.18556058]\n",
      " [ 1.43825348  0.09438241  0.91931453  0.27016459  0.70163751]\n",
      " [ 0.4099884   1.39280699  0.61515706  0.50050842  0.24263616]\n",
      " [ 0.96294232  3.38593387  1.7488229   0.24253564  1.24774252]\n",
      " [ 2.9500566   0.14668308  2.68836664  1.13523579  0.72156097]\n",
      " [ 0.46279133  8.67319794  0.28286852  1.37065903  1.85315507]\n",
      " [ 1.0551594   0.49477053  0.6175562   0.40824669  0.32306804]\n",
      " [ 0.92109111  2.16858522  0.33144904  0.50527793  0.37447875]\n",
      " [ 1.01656649  1.88973563  0.32931421  0.25523353  0.54517968]\n",
      " [ 2.17082493  0.90815372  1.34384766  0.12231263  0.51167435]\n",
      " [ 1.37909993  2.00519931  0.86199708  0.91148894  2.70908825]\n",
      " [ 2.57520329  0.14921124  2.95902845  0.20301649  2.07390179]\n",
      " [ 2.4322843   0.42197619  1.30521678  0.64264191  0.51539027]\n",
      " [ 0.68482999  1.35301219  0.8539038   0.37229544  3.98119396]\n",
      " [ 1.93967662  0.98748399  0.76539578  0.50648815  2.74876668]\n",
      " [ 0.44137007  2.85018508  0.46220044  0.35167279  1.24087436]\n",
      " [ 5.14817119  0.25424921  0.77423068  1.44387174  1.78324486]\n",
      " [ 2.56206333  1.42868433  3.17696296  0.20476053  0.45785887]\n",
      " [ 0.3567194   3.06582719  1.00477571  0.45564214  3.84518388]\n",
      " [ 0.47866287  1.37638466  1.19801011  0.15508638  5.9194613 ]\n",
      " [ 1.32346154  2.71897924  0.23384074  0.72827635  0.2525885 ]\n",
      " [ 1.61483722  0.2439627   2.59426289  1.22507638  0.65450797]\n",
      " [ 0.88998833  0.5394304   0.67935201  0.10766236  0.69071914]\n",
      " [ 0.68351663  0.24837119  1.91736884  0.77260496  1.12745336]\n",
      " [ 3.29415901  1.62242707  0.28278476  2.8252653   1.1707028 ]\n",
      " [ 0.76675401  0.60874888  0.13494567  0.96136033 10.07769311]\n",
      " [ 4.78780414  0.6811159   1.01205133  2.01877748  0.18198941]]\n"
     ]
    }
   ],
   "source": [
    "import numpy.random as npr\n",
    "data = np.exp(npr.randn ( 50 , 5 ) )\n",
    "print(data)"
   ]
  },
  {
   "cell_type": "code",
   "execution_count": 7,
   "id": "2c824f50-16a1-4664-a74b-ddb6fe677d1a",
   "metadata": {},
   "outputs": [
    {
     "name": "stdout",
     "output_type": "stream",
     "text": [
      "Mean of each column: [1.10120157 2.07304509 1.70827962 2.11831518 1.21707018]\n",
      "Standard deviation of each column: [0.9407669  2.2924333  1.59510086 2.85899251 1.03670045]\n"
     ]
    }
   ],
   "source": [
    "\n",
    "data = np.random.normal(size=(50, 5))\n",
    "log_normal_data = np.exp(data)\n",
    "mean_vector = np.mean(log_normal_data, axis=0)\n",
    "std_vector = np.std(log_normal_data, axis=0)\n",
    "print(\"Mean of each column:\", mean_vector)\n",
    "print(\"Standard deviation of each column:\", std_vector)\n"
   ]
  },
  {
   "cell_type": "code",
   "execution_count": 8,
   "id": "89719560-c01d-412c-9832-a580fcf2d734",
   "metadata": {},
   "outputs": [
    {
     "name": "stdout",
     "output_type": "stream",
     "text": [
      "Mean of each column in normalized data: [ 8.21565038e-17  1.52100554e-16 -1.02140518e-16 -6.43929354e-17\n",
      "  6.43929354e-17]\n",
      "Standard deviation of each column in normalized data: [1. 1. 1. 1. 1.]\n"
     ]
    }
   ],
   "source": [
    "data = np.random.normal(size=(50, 5))\n",
    "log_normal_data = np.exp(data)\n",
    "mean_vector = np.mean(log_normal_data, axis=0)\n",
    "std_vector = np.std(log_normal_data, axis=0)\n",
    "normalized = (log_normal_data - mean_vector) / std_vector\n",
    "normalized_mean = np.mean(normalized, axis=0)\n",
    "normalized_std = np.std(normalized, axis=0)\n",
    "print(\"Mean of each column in normalized data:\", normalized_mean)\n",
    "print(\"Standard deviation of each column in normalized data:\", normalized_std)"
   ]
  },
  {
   "cell_type": "markdown",
   "id": "075ad743-09db-4694-a16d-ed6f6b907876",
   "metadata": {},
   "source": [
    "### Q3\n",
    "## a) A Vandermonde matrix is a matrix generated from a vector in which each column of the matrix is an integer power starting from zero. So, if I have a column vector [x1, x2, . . . , xN]T , then the associated (square) Vandermonde matrix would be Use what you learned about broadcasting in the previous problem to write a function that will produce a Vandermonde matrix for a vector [1, 2, . . . ,N]T for any N. Do it without using a loop. Here’s a stub to get you started:\n",
    "## def vandermonde (N):\n",
    "## vec = np.arange (N) +1\n",
    " # write your code here .\n",
    "## Use your function for N = 12, store it in variable named vander, and print the result.\n",
    "## b) Now, let’s make a pretend linear system problem with this matrix. Create a vector of all ones, of length 12 and call it x. Perform a matrix-vector multiplication of vander with the vector you just created and store that in a new vector and call it b. Print the vector b.\n",
    "## c) First, solve the linear system the naïve way, pretending like you don’t know x. Import numpy.linalg, invert V and multiply it by b. Print out your result. What should you get for your answer? If the answer is different than what you expected, write a sentence about that difference.\n",
    "## d) Now, solve the same linear system using solve. Print out the result. Does it seem more or less in line with what you’d expect?"
   ]
  },
  {
   "cell_type": "code",
   "execution_count": 13,
   "id": "203070c6-863c-4404-a7d3-160f0fb5abc6",
   "metadata": {},
   "outputs": [
    {
     "name": "stdout",
     "output_type": "stream",
     "text": [
      "[[           1            1            1            1            1\n",
      "             1            1            1            1            1\n",
      "             1            1]\n",
      " [           1            2            4            8           16\n",
      "            32           64          128          256          512\n",
      "          1024         2048]\n",
      " [           1            3            9           27           81\n",
      "           243          729         2187         6561        19683\n",
      "         59049       177147]\n",
      " [           1            4           16           64          256\n",
      "          1024         4096        16384        65536       262144\n",
      "       1048576      4194304]\n",
      " [           1            5           25          125          625\n",
      "          3125        15625        78125       390625      1953125\n",
      "       9765625     48828125]\n",
      " [           1            6           36          216         1296\n",
      "          7776        46656       279936      1679616     10077696\n",
      "      60466176    362797056]\n",
      " [           1            7           49          343         2401\n",
      "         16807       117649       823543      5764801     40353607\n",
      "     282475249   1977326743]\n",
      " [           1            8           64          512         4096\n",
      "         32768       262144      2097152     16777216    134217728\n",
      "    1073741824   8589934592]\n",
      " [           1            9           81          729         6561\n",
      "         59049       531441      4782969     43046721    387420489\n",
      "    3486784401  31381059609]\n",
      " [           1           10          100         1000        10000\n",
      "        100000      1000000     10000000    100000000   1000000000\n",
      "   10000000000 100000000000]\n",
      " [           1           11          121         1331        14641\n",
      "        161051      1771561     19487171    214358881   2357947691\n",
      "   25937424601 285311670611]\n",
      " [           1           12          144         1728        20736\n",
      "        248832      2985984     35831808    429981696   5159780352\n",
      "   61917364224 743008370688]]\n"
     ]
    }
   ],
   "source": [
    "def vandermonde(N):\n",
    "    vec = np.arange(N) + 1\n",
    "    return vec[:, None] ** np.arange(N)\n",
    "vander = vandermonde(12)\n",
    "print(vander)\n"
   ]
  },
  {
   "cell_type": "code",
   "execution_count": 10,
   "id": "b4aeee04-d4fa-4796-b27b-1d59c6a25bbd",
   "metadata": {},
   "outputs": [
    {
     "name": "stdout",
     "output_type": "stream",
     "text": [
      "[1. 1. 1. 1. 1. 1. 1. 1. 1. 1. 1. 1.]\n",
      "[1.20000000e+01 4.09500000e+03 2.65720000e+05 5.59240500e+06\n",
      " 6.10351560e+07 4.35356467e+08 2.30688120e+09 9.81706810e+09\n",
      " 3.53036921e+10 1.11111111e+11 3.13842838e+11 8.10554586e+11]\n"
     ]
    }
   ],
   "source": [
    "N = 12\n",
    "x = np.ones(N)\n",
    "print(x)\n",
    "b = vander @ x\n",
    "print(b)"
   ]
  },
  {
   "cell_type": "code",
   "execution_count": 20,
   "id": "d711847b-f485-44ca-92cf-6f670e2da6cc",
   "metadata": {},
   "outputs": [
    {
     "name": "stdout",
     "output_type": "stream",
     "text": [
      "[-12.26953125   5.90625     15.421875    -6.03515625   2.05859375\n",
      "   0.92675781   1.00244141   1.00010681   0.99997711   1.00000131\n",
      "   0.99999996   1.        ]\n"
     ]
    }
   ],
   "source": [
    "from numpy.linalg import inv\n",
    "x_estimated = inv(vander)@ b\n",
    "print(x_estimated)"
   ]
  },
  {
   "cell_type": "code",
   "execution_count": 26,
   "id": "9e21f7ba-f1a2-4545-a0a8-af8e0a9d5023",
   "metadata": {},
   "outputs": [
    {
     "name": "stdout",
     "output_type": "stream",
     "text": [
      "[0.98080503 1.05139768 0.94513807 1.03151945 0.98899166 1.00248816\n",
      " 0.99962407 1.0000384  0.99999737 1.00000012 1.         1.        ]\n"
     ]
    }
   ],
   "source": [
    "x_solved = np.linalg.solve(vander, b)\n",
    "print(x_solved)"
   ]
  },
  {
   "cell_type": "code",
   "execution_count": null,
   "id": "d8d00c04-150c-4065-b014-e644992c516c",
   "metadata": {},
   "outputs": [],
   "source": []
  }
 ],
 "metadata": {
  "kernelspec": {
   "display_name": "Python 3 (ipykernel)",
   "language": "python",
   "name": "python3"
  },
  "language_info": {
   "codemirror_mode": {
    "name": "ipython",
    "version": 3
   },
   "file_extension": ".py",
   "mimetype": "text/x-python",
   "name": "python",
   "nbconvert_exporter": "python",
   "pygments_lexer": "ipython3",
   "version": "3.12.4"
  }
 },
 "nbformat": 4,
 "nbformat_minor": 5
}
